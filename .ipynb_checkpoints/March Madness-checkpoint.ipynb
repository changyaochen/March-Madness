{
 "cells": [
  {
   "cell_type": "markdown",
   "metadata": {},
   "source": [
    "## Problem Statement\n",
    "\n",
    "Let's give it a crack! After reading the introduction, it seems to me the goal of this project is to prediction the result of the match between two teams, based on the 'knowledge' we have learnt about the teams. Therefore, it is important to grab as much information as possible from the past records of the teams.\n",
    "\n",
    "## Data inspection"
   ]
  },
  {
   "cell_type": "code",
   "execution_count": 1,
   "metadata": {
    "collapsed": false
   },
   "outputs": [],
   "source": [
    "# This Python 3 environment comes with many helpful analytics libraries installed\n",
    "# It is defined by the kaggle/python docker image: https://github.com/kaggle/docker-python\n",
    "# For example, here's several helpful packages to load in \n",
    "\n",
    "import numpy as np # linear algebra\n",
    "import pandas as pd # data processing, CSV file I/O (e.g. pd.read_csv)\n",
    "\n",
    "# Input data files are available in the \"../input/\" directory.\n",
    "# For example, running this (by clicking run or pressing Shift+Enter) will list the files in the input directory\n",
    "\n",
    "teams = pd.read_csv('./input/teams.csv')\n",
    "seasons = pd.read_csv('./input/seasons.csv')"
   ]
  },
  {
   "cell_type": "code",
   "execution_count": 7,
   "metadata": {
    "collapsed": false
   },
   "outputs": [
    {
     "name": "stdout",
     "output_type": "stream",
     "text": [
      "Total number of teams: 364\n"
     ]
    }
   ],
   "source": [
    "# make team_id <==> team_name dict\n",
    "team_dict = {}\n",
    "for x, y in zip(teams['Team_Id'], teams['Team_Name']):\n",
    "    team_dict[x] = y\n",
    "print('Total number of teams: {}'.format(len(team_dict)))"
   ]
  },
  {
   "cell_type": "code",
   "execution_count": 3,
   "metadata": {
    "collapsed": true
   },
   "outputs": [],
   "source": [
    "regular_season = pd.read_csv('./input/RegularSeasonCompactResults.csv')\n",
    "regular_season_detail = pd.read_csv('./input/RegularSeasonDetailedResults.csv')"
   ]
  },
  {
   "cell_type": "code",
   "execution_count": 4,
   "metadata": {
    "collapsed": false
   },
   "outputs": [],
   "source": [
    "import re\n",
    "t = list(map(lambda x: re.search('W*', x).group(), regular_season_detail.columns.tolist()))"
   ]
  },
  {
   "cell_type": "code",
   "execution_count": 5,
   "metadata": {
    "collapsed": false
   },
   "outputs": [],
   "source": [
    "Tourney = pd.read_csv('./input/TourneyCompactResults.csv')\n",
    "Tourney_detail = pd.read_csv('./input/TourneyDetailedResults.csv')\n",
    "Tour_seed = pd.read_csv('./input/TourneySeeds.csv')\n",
    "Tour_slots = pd.read_csv('./input/TourneySlots.csv')"
   ]
  },
  {
   "cell_type": "markdown",
   "metadata": {},
   "source": [
    "With all the information loaded, how to build a sensible model? The ideal model, like a crystal ball, should takes in two teams, and then split out the winning team. This should be a very backbone of the model. However, in reality, there are more factors that we might to consider: for example, how much games has the each team played prior to their encounter? How fresh are their legs? Are they historical rivals (like Duke and UNC). Also, although we have many years of historical data available, the roster of a college basketball team changes on a yearly basis, therefore, the histroical record 10 years ago might not be as useful as the record last year.\n",
    "\n",
    "Well, other than the names of the two teams, what else should we provide to the crystal ball? Most likely, the crystal ball needs to know more about each team, such as avarge points scored/allowed per game, win/loss record for the season, average rebounds per game, etc. These attributes, for each team, can be found from the provided training data. \n",
    "\n",
    "## Feature Engineering\n",
    "\n",
    "From above thinking, we need to prepare a set of features for each of the two teams, and then basing these features can we make a prediction. What are the features we can distill from the existing data, and more important, what are the features are important?\n",
    "\n",
    "The rule of the game is simple: you need to outscore your oppoent to win. Therefore, a good indicator will be the average point per game, let's call it *ppg*, if team A has a higher ppg than team B, and this is the only information I have, I would bet team A would beat team B. Now the question is, how do you get the ppg information? For the first game in the season, where can I get this number, maybe use the average ppg from last season? For the last game in the season, does it make more sense to use the average ppg from the previous games in the season? Therefore, we need to take this information into account.\n",
    "\n",
    "Let's start building such feature(s) for each team, and for each regular season. Given the fact that the statisitic after 2003 (*RegularSeasonDetailedResults.csv*) have more information than the years before (*RegularSeasonCompactResults.csv*), let me start from 2003 season\n"
   ]
  },
  {
   "cell_type": "code",
   "execution_count": 25,
   "metadata": {
    "collapsed": false
   },
   "outputs": [],
   "source": [
    "team_stat = teams # get the team id and names\n",
    "stats = [\n",
    "         'fgm', # field goal made\n",
    "         'fga', # field goal attempt\n",
    "         'fgm3', # 3-pointer made\n",
    "         'fga3', # 3-pointer attempted\n",
    "         'ftm', # free-throw made\n",
    "         'fta', # free-throw attempt\n",
    "         'or', # offensive rebound\n",
    "         'df', # defensive rebound\n",
    "         'ast', # assists\n",
    "         'to', # turnover\n",
    "         'stl', # steals\n",
    "         'blk', # blocks\n",
    "         'pf', # personal fouls\n",
    "         # ===== below are new features =====\n",
    "         'ppg', # point per game\n",
    "         'oppg', # oppent point per game (new feature)\n",
    "         'margin', # point margin (new feature)\n",
    "         'fgp', # field goal percentage (new feature)\n",
    "         'fgp3', # 3-pointer percentage (new feature)\n",
    "         'ftp', # free-throw percentage (new feature)\n",
    "         'odr', # offensive-defensive rebound ratio (new feature)\n",
    "         'otw', # total overtime wins, not averaged! (new feature)\n",
    "         'otl', # total overtime loses, not averaged! (new feature)\n",
    "        ]\n",
    "# get the season averaged stat\n",
    "df = regular_season_detail.groupby('Wteam').mean()"
   ]
  },
  {
   "cell_type": "code",
   "execution_count": 28,
   "metadata": {
    "collapsed": false
   },
   "outputs": [
    {
     "data": {
      "text/html": [
       "<div>\n",
       "<table border=\"1\" class=\"dataframe\">\n",
       "  <thead>\n",
       "    <tr style=\"text-align: right;\">\n",
       "      <th></th>\n",
       "      <th>Season</th>\n",
       "      <th>Daynum</th>\n",
       "      <th>Wteam</th>\n",
       "      <th>Wscore</th>\n",
       "      <th>Lteam</th>\n",
       "      <th>Lscore</th>\n",
       "      <th>Wloc</th>\n",
       "      <th>Numot</th>\n",
       "      <th>Wfgm</th>\n",
       "      <th>Wfga</th>\n",
       "      <th>...</th>\n",
       "      <th>Lfga3</th>\n",
       "      <th>Lftm</th>\n",
       "      <th>Lfta</th>\n",
       "      <th>Lor</th>\n",
       "      <th>Ldr</th>\n",
       "      <th>Last</th>\n",
       "      <th>Lto</th>\n",
       "      <th>Lstl</th>\n",
       "      <th>Lblk</th>\n",
       "      <th>Lpf</th>\n",
       "    </tr>\n",
       "  </thead>\n",
       "  <tbody>\n",
       "    <tr>\n",
       "      <th>0</th>\n",
       "      <td>2003</td>\n",
       "      <td>10</td>\n",
       "      <td>1104</td>\n",
       "      <td>68</td>\n",
       "      <td>1328</td>\n",
       "      <td>62</td>\n",
       "      <td>N</td>\n",
       "      <td>0</td>\n",
       "      <td>27</td>\n",
       "      <td>58</td>\n",
       "      <td>...</td>\n",
       "      <td>10</td>\n",
       "      <td>16</td>\n",
       "      <td>22</td>\n",
       "      <td>10</td>\n",
       "      <td>22</td>\n",
       "      <td>8</td>\n",
       "      <td>18</td>\n",
       "      <td>9</td>\n",
       "      <td>2</td>\n",
       "      <td>20</td>\n",
       "    </tr>\n",
       "    <tr>\n",
       "      <th>1</th>\n",
       "      <td>2003</td>\n",
       "      <td>10</td>\n",
       "      <td>1272</td>\n",
       "      <td>70</td>\n",
       "      <td>1393</td>\n",
       "      <td>63</td>\n",
       "      <td>N</td>\n",
       "      <td>0</td>\n",
       "      <td>26</td>\n",
       "      <td>62</td>\n",
       "      <td>...</td>\n",
       "      <td>24</td>\n",
       "      <td>9</td>\n",
       "      <td>20</td>\n",
       "      <td>20</td>\n",
       "      <td>25</td>\n",
       "      <td>7</td>\n",
       "      <td>12</td>\n",
       "      <td>8</td>\n",
       "      <td>6</td>\n",
       "      <td>16</td>\n",
       "    </tr>\n",
       "    <tr>\n",
       "      <th>2</th>\n",
       "      <td>2003</td>\n",
       "      <td>11</td>\n",
       "      <td>1266</td>\n",
       "      <td>73</td>\n",
       "      <td>1437</td>\n",
       "      <td>61</td>\n",
       "      <td>N</td>\n",
       "      <td>0</td>\n",
       "      <td>24</td>\n",
       "      <td>58</td>\n",
       "      <td>...</td>\n",
       "      <td>26</td>\n",
       "      <td>14</td>\n",
       "      <td>23</td>\n",
       "      <td>31</td>\n",
       "      <td>22</td>\n",
       "      <td>9</td>\n",
       "      <td>12</td>\n",
       "      <td>2</td>\n",
       "      <td>5</td>\n",
       "      <td>23</td>\n",
       "    </tr>\n",
       "    <tr>\n",
       "      <th>3</th>\n",
       "      <td>2003</td>\n",
       "      <td>11</td>\n",
       "      <td>1296</td>\n",
       "      <td>56</td>\n",
       "      <td>1457</td>\n",
       "      <td>50</td>\n",
       "      <td>N</td>\n",
       "      <td>0</td>\n",
       "      <td>18</td>\n",
       "      <td>38</td>\n",
       "      <td>...</td>\n",
       "      <td>22</td>\n",
       "      <td>8</td>\n",
       "      <td>15</td>\n",
       "      <td>17</td>\n",
       "      <td>20</td>\n",
       "      <td>9</td>\n",
       "      <td>19</td>\n",
       "      <td>4</td>\n",
       "      <td>3</td>\n",
       "      <td>23</td>\n",
       "    </tr>\n",
       "    <tr>\n",
       "      <th>4</th>\n",
       "      <td>2003</td>\n",
       "      <td>11</td>\n",
       "      <td>1400</td>\n",
       "      <td>77</td>\n",
       "      <td>1208</td>\n",
       "      <td>71</td>\n",
       "      <td>N</td>\n",
       "      <td>0</td>\n",
       "      <td>30</td>\n",
       "      <td>61</td>\n",
       "      <td>...</td>\n",
       "      <td>16</td>\n",
       "      <td>17</td>\n",
       "      <td>27</td>\n",
       "      <td>21</td>\n",
       "      <td>15</td>\n",
       "      <td>12</td>\n",
       "      <td>10</td>\n",
       "      <td>7</td>\n",
       "      <td>1</td>\n",
       "      <td>14</td>\n",
       "    </tr>\n",
       "  </tbody>\n",
       "</table>\n",
       "<p>5 rows × 34 columns</p>\n",
       "</div>"
      ],
      "text/plain": [
       "   Season  Daynum  Wteam  Wscore  Lteam  Lscore Wloc  Numot  Wfgm  Wfga ...   \\\n",
       "0    2003      10   1104      68   1328      62    N      0    27    58 ...    \n",
       "1    2003      10   1272      70   1393      63    N      0    26    62 ...    \n",
       "2    2003      11   1266      73   1437      61    N      0    24    58 ...    \n",
       "3    2003      11   1296      56   1457      50    N      0    18    38 ...    \n",
       "4    2003      11   1400      77   1208      71    N      0    30    61 ...    \n",
       "\n",
       "   Lfga3  Lftm  Lfta  Lor  Ldr  Last  Lto  Lstl  Lblk  Lpf  \n",
       "0     10    16    22   10   22     8   18     9     2   20  \n",
       "1     24     9    20   20   25     7   12     8     6   16  \n",
       "2     26    14    23   31   22     9   12     2     5   23  \n",
       "3     22     8    15   17   20     9   19     4     3   23  \n",
       "4     16    17    27   21   15    12   10     7     1   14  \n",
       "\n",
       "[5 rows x 34 columns]"
      ]
     },
     "execution_count": 28,
     "metadata": {},
     "output_type": "execute_result"
    }
   ],
   "source": [
    "regular_season_detail.head()"
   ]
  },
  {
   "cell_type": "code",
   "execution_count": null,
   "metadata": {
    "collapsed": true
   },
   "outputs": [],
   "source": []
  }
 ],
 "metadata": {
  "kernelspec": {
   "display_name": "Python 3",
   "language": "python",
   "name": "python3"
  },
  "language_info": {
   "codemirror_mode": {
    "name": "ipython",
    "version": 3
   },
   "file_extension": ".py",
   "mimetype": "text/x-python",
   "name": "python",
   "nbconvert_exporter": "python",
   "pygments_lexer": "ipython3",
   "version": "3.6.0"
  }
 },
 "nbformat": 4,
 "nbformat_minor": 2
}
